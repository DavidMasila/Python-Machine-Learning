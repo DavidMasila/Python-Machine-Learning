{
 "cells": [
  {
   "cell_type": "markdown",
   "id": "99a40ab5",
   "metadata": {},
   "source": [
    "# Pipelines\n",
    "\n",
    "Pipelines simplify the process where more than one model is required or used. <br>\n",
    "The predict method is called once all the data is fit into the models/estimators. <br>\n",
    "All the models in the pipeline except the last one must be transformers. The last model can either be a transformer or a classifier, regressor, or other such objects. <br>"
   ]
  },
  {
   "cell_type": "code",
   "execution_count": 3,
   "id": "d5af045a",
   "metadata": {},
   "outputs": [],
   "source": [
    "#import pipeline class\n",
    "from sklearn.pipeline import Pipeline"
   ]
  },
  {
   "cell_type": "code",
   "execution_count": 4,
   "id": "b53f28fe",
   "metadata": {},
   "outputs": [],
   "source": [
    "#import linear estimator\n",
    "from sklearn.linear_model import LinearRegression"
   ]
  },
  {
   "cell_type": "code",
   "execution_count": 5,
   "id": "50f058ad",
   "metadata": {},
   "outputs": [],
   "source": [
    "#import the dimentionality reduction estimator PCA from decomposition\n",
    "from sklearn.decomposition import PCA"
   ]
  },
  {
   "cell_type": "markdown",
   "id": "a5efa587",
   "metadata": {},
   "source": [
    "#### Chain the estimators together\""
   ]
  },
  {
   "cell_type": "code",
   "execution_count": 6,
   "id": "ca9a772c",
   "metadata": {},
   "outputs": [],
   "source": [
    "estimator=[('dim_reduction',PCA()),('linear_model',LinearRegression())]"
   ]
  },
  {
   "cell_type": "markdown",
   "id": "df45c2b4",
   "metadata": {},
   "source": [
    "#### Put the chain estimator in the pipeline object"
   ]
  },
  {
   "cell_type": "code",
   "execution_count": 8,
   "id": "8aa64886",
   "metadata": {},
   "outputs": [],
   "source": [
    "pipeline_estimator=Pipeline(estimator)"
   ]
  },
  {
   "cell_type": "markdown",
   "id": "8879cf71",
   "metadata": {},
   "source": [
    "#### Check the chain estimators"
   ]
  },
  {
   "cell_type": "code",
   "execution_count": 9,
   "id": "80f5fe68",
   "metadata": {},
   "outputs": [
    {
     "data": {
      "text/plain": [
       "Pipeline(steps=[('dim_reduction', PCA()), ('linear_model', LinearRegression())])"
      ]
     },
     "execution_count": 9,
     "metadata": {},
     "output_type": "execute_result"
    }
   ],
   "source": [
    "pipeline_estimator"
   ]
  },
  {
   "cell_type": "markdown",
   "id": "b7e3e26b",
   "metadata": {},
   "source": [
    "#### View first step"
   ]
  },
  {
   "cell_type": "code",
   "execution_count": 10,
   "id": "84ce145b",
   "metadata": {},
   "outputs": [
    {
     "data": {
      "text/plain": [
       "('dim_reduction', PCA())"
      ]
     },
     "execution_count": 10,
     "metadata": {},
     "output_type": "execute_result"
    }
   ],
   "source": [
    "pipeline_estimator.steps[0]"
   ]
  },
  {
   "cell_type": "code",
   "execution_count": 11,
   "id": "327cbdda",
   "metadata": {},
   "outputs": [
    {
     "data": {
      "text/plain": [
       "('linear_model', LinearRegression())"
      ]
     },
     "execution_count": 11,
     "metadata": {},
     "output_type": "execute_result"
    }
   ],
   "source": [
    "pipeline_estimator.steps[1]"
   ]
  },
  {
   "cell_type": "markdown",
   "id": "4858b9d2",
   "metadata": {},
   "source": [
    "#### View all the steps in the pipeline"
   ]
  },
  {
   "cell_type": "code",
   "execution_count": 12,
   "id": "4c258c8f",
   "metadata": {},
   "outputs": [
    {
     "data": {
      "text/plain": [
       "[('dim_reduction', PCA()), ('linear_model', LinearRegression())]"
      ]
     },
     "execution_count": 12,
     "metadata": {},
     "output_type": "execute_result"
    }
   ],
   "source": [
    "pipeline_estimator.steps"
   ]
  },
  {
   "cell_type": "code",
   "execution_count": null,
   "id": "370373c8",
   "metadata": {},
   "outputs": [],
   "source": []
  }
 ],
 "metadata": {
  "kernelspec": {
   "display_name": "Python 3",
   "language": "python",
   "name": "python3"
  },
  "language_info": {
   "codemirror_mode": {
    "name": "ipython",
    "version": 3
   },
   "file_extension": ".py",
   "mimetype": "text/x-python",
   "name": "python",
   "nbconvert_exporter": "python",
   "pygments_lexer": "ipython3",
   "version": "3.9.1"
  }
 },
 "nbformat": 4,
 "nbformat_minor": 5
}
