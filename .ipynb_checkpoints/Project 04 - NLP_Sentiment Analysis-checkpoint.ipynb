{
 "cells": [
  {
   "cell_type": "markdown",
   "id": "b3139c50",
   "metadata": {},
   "source": [
    "# Simplilearn\n",
    "\n",
    "## Natural Langauge Processing\n",
    "\n",
    "### Sentiment analysis"
   ]
  },
  {
   "cell_type": "code",
   "execution_count": 1,
   "id": "5d98cc05",
   "metadata": {},
   "outputs": [],
   "source": [
    "import string\n",
    "from nltk.corpus import stopwords\n",
    "import pandas as pd"
   ]
  },
  {
   "cell_type": "code",
   "execution_count": 4,
   "id": "de225fce",
   "metadata": {},
   "outputs": [],
   "source": [
    "df=pd.read_csv('imdb_labelled.txt',sep='\\t',names=['Comment','Label'])"
   ]
  },
  {
   "cell_type": "code",
   "execution_count": 5,
   "id": "b2125d3e",
   "metadata": {},
   "outputs": [
    {
     "data": {
      "text/html": [
       "<div>\n",
       "<style scoped>\n",
       "    .dataframe tbody tr th:only-of-type {\n",
       "        vertical-align: middle;\n",
       "    }\n",
       "\n",
       "    .dataframe tbody tr th {\n",
       "        vertical-align: top;\n",
       "    }\n",
       "\n",
       "    .dataframe thead th {\n",
       "        text-align: right;\n",
       "    }\n",
       "</style>\n",
       "<table border=\"1\" class=\"dataframe\">\n",
       "  <thead>\n",
       "    <tr style=\"text-align: right;\">\n",
       "      <th></th>\n",
       "      <th>Comment</th>\n",
       "      <th>Label</th>\n",
       "    </tr>\n",
       "  </thead>\n",
       "  <tbody>\n",
       "    <tr>\n",
       "      <th>0</th>\n",
       "      <td>A very, very, very slow-moving, aimless movie ...</td>\n",
       "      <td>0</td>\n",
       "    </tr>\n",
       "    <tr>\n",
       "      <th>1</th>\n",
       "      <td>Not sure who was more lost - the flat characte...</td>\n",
       "      <td>0</td>\n",
       "    </tr>\n",
       "    <tr>\n",
       "      <th>2</th>\n",
       "      <td>Attempting artiness with black &amp; white and cle...</td>\n",
       "      <td>0</td>\n",
       "    </tr>\n",
       "    <tr>\n",
       "      <th>3</th>\n",
       "      <td>Very little music or anything to speak of.</td>\n",
       "      <td>0</td>\n",
       "    </tr>\n",
       "    <tr>\n",
       "      <th>4</th>\n",
       "      <td>The best scene in the movie was when Gerardo i...</td>\n",
       "      <td>1</td>\n",
       "    </tr>\n",
       "  </tbody>\n",
       "</table>\n",
       "</div>"
      ],
      "text/plain": [
       "                                             Comment  Label\n",
       "0  A very, very, very slow-moving, aimless movie ...      0\n",
       "1  Not sure who was more lost - the flat characte...      0\n",
       "2  Attempting artiness with black & white and cle...      0\n",
       "3       Very little music or anything to speak of.        0\n",
       "4  The best scene in the movie was when Gerardo i...      1"
      ]
     },
     "execution_count": 5,
     "metadata": {},
     "output_type": "execute_result"
    }
   ],
   "source": [
    "df.head()"
   ]
  },
  {
   "cell_type": "code",
   "execution_count": 6,
   "id": "9b66e58b",
   "metadata": {},
   "outputs": [],
   "source": [
    "def remove_stopwords(message):\n",
    "    no_punctuation=[char for char in message if char not in string.punctuation]\n",
    "    no_punctuation=\"\".join(no_punctuation)\n",
    "    return [word for word in no_punctuation.split() if word not in stopwords.words('english')]"
   ]
  },
  {
   "cell_type": "code",
   "execution_count": 8,
   "id": "88f51259",
   "metadata": {},
   "outputs": [
    {
     "data": {
      "text/plain": [
       "0    [A, slowmoving, aimless, movie, distressed, dr...\n",
       "1    [Not, sure, lost, flat, characters, audience, ...\n",
       "2    [Attempting, artiness, black, white, clever, c...\n",
       "3               [Very, little, music, anything, speak]\n",
       "4    [The, best, scene, movie, Gerardo, trying, fin...\n",
       "Name: Comment, dtype: object"
      ]
     },
     "execution_count": 8,
     "metadata": {},
     "output_type": "execute_result"
    }
   ],
   "source": [
    "#test our function\n",
    "df['Comment'].head().apply(remove_stopwords)"
   ]
  },
  {
   "cell_type": "code",
   "execution_count": 9,
   "id": "a83a2878",
   "metadata": {},
   "outputs": [],
   "source": [
    "from sklearn.feature_extraction.text import CountVectorizer\n",
    "vectorizer=CountVectorizer(analyzer=remove_stopwords)"
   ]
  },
  {
   "cell_type": "code",
   "execution_count": 10,
   "id": "5b612273",
   "metadata": {},
   "outputs": [],
   "source": [
    "comments_vectorized=vectorizer.fit(df['Comment']).transform(df['Comment'])"
   ]
  },
  {
   "cell_type": "code",
   "execution_count": 11,
   "id": "59a0647c",
   "metadata": {},
   "outputs": [],
   "source": [
    "from sklearn.feature_extraction.text import TfidfTransformer\n",
    "transformer=TfidfTransformer()"
   ]
  },
  {
   "cell_type": "code",
   "execution_count": 12,
   "id": "74a79777",
   "metadata": {},
   "outputs": [],
   "source": [
    "comments_Tfidf=transformer.fit(comments_vectorized).transform(comments_vectorized)"
   ]
  },
  {
   "cell_type": "code",
   "execution_count": 13,
   "id": "858d90d5",
   "metadata": {},
   "outputs": [
    {
     "data": {
      "text/plain": [
       "(748, 3340)"
      ]
     },
     "execution_count": 13,
     "metadata": {},
     "output_type": "execute_result"
    }
   ],
   "source": [
    "comments_Tfidf.shape"
   ]
  },
  {
   "cell_type": "code",
   "execution_count": 20,
   "id": "589761cc",
   "metadata": {},
   "outputs": [],
   "source": [
    "#use the naive bayes model for sentiiemnt prediction\n",
    "from sklearn.naive_bayes import MultinomialNB\n",
    "sentiment_detection_model=MultinomialNB().fit(comments_Tfidf,df['Label'])"
   ]
  },
  {
   "cell_type": "code",
   "execution_count": 21,
   "id": "a4078c39",
   "metadata": {},
   "outputs": [],
   "source": [
    "#check model for predicted and expected value say for comment 1 and 5\n",
    "comment1=df['Comment'][0]"
   ]
  },
  {
   "cell_type": "code",
   "execution_count": 22,
   "id": "80a34561",
   "metadata": {},
   "outputs": [
    {
     "name": "stdout",
     "output_type": "stream",
     "text": [
      "A very, very, very slow-moving, aimless movie about a distressed, drifting young man.  \n"
     ]
    }
   ],
   "source": [
    "print(comment1)"
   ]
  },
  {
   "cell_type": "code",
   "execution_count": 23,
   "id": "ffa7fab3",
   "metadata": {},
   "outputs": [],
   "source": [
    "#we have to vectorize andsubject it it the Tfidf \n",
    "comment1_vectorized=vectorizer.fit(df['Comment']).transform([comment1])"
   ]
  },
  {
   "cell_type": "code",
   "execution_count": 24,
   "id": "ff01252d",
   "metadata": {},
   "outputs": [],
   "source": [
    "#Tfidf transfrom the vectorized comment\n",
    "comment1_Tfidf=transformer.fit(comment1_vectorized).transform(comment1_vectorized)"
   ]
  },
  {
   "cell_type": "code",
   "execution_count": 30,
   "id": "87d82bd9",
   "metadata": {},
   "outputs": [
    {
     "name": "stdout",
     "output_type": "stream",
     "text": [
      "Predicted Sentiment is:  0\n",
      "The actual sentiment was:  0\n"
     ]
    }
   ],
   "source": [
    "print('Predicted Sentiment is: ',sentiment_detection_model.predict(comment1_Tfidf)[0])\n",
    "print('The actual sentiment was: ',df['Label'][0])"
   ]
  },
  {
   "cell_type": "code",
   "execution_count": 32,
   "id": "2cf68e1a",
   "metadata": {},
   "outputs": [
    {
     "name": "stdout",
     "output_type": "stream",
     "text": [
      "The best scene in the movie was when Gerardo is trying to find a song that keeps running through his head.  \n"
     ]
    }
   ],
   "source": [
    "comment5=df['Comment'][4]\n",
    "print(comment5)"
   ]
  },
  {
   "cell_type": "code",
   "execution_count": 33,
   "id": "2a5c4ba3",
   "metadata": {},
   "outputs": [],
   "source": [
    "#vectorize comment 5\n",
    "comment5_vectorized=vectorizer.fit(df['Comment']).transform([comment5])"
   ]
  },
  {
   "cell_type": "code",
   "execution_count": 37,
   "id": "4ebe113c",
   "metadata": {},
   "outputs": [],
   "source": [
    "#tfidf the comment\n",
    "comment5_tfidf=transformer.fit(comment5_vectorized).transform(comment5_vectorized)"
   ]
  },
  {
   "cell_type": "code",
   "execution_count": 43,
   "id": "eb8ce46c",
   "metadata": {},
   "outputs": [
    {
     "name": "stdout",
     "output_type": "stream",
     "text": [
      "The actual sentiment was:  1\n",
      "The predicted sentiment is:  1\n"
     ]
    }
   ],
   "source": [
    "#predict\n",
    "print('The actual sentiment was: ',df['Label'][4])\n",
    "print('The predicted sentiment is: ',sentiment_detection_model.predict(comment5_tfidf)[0])"
   ]
  },
  {
   "cell_type": "code",
   "execution_count": null,
   "id": "ffb9c49e",
   "metadata": {},
   "outputs": [],
   "source": []
  }
 ],
 "metadata": {
  "kernelspec": {
   "display_name": "Python 3",
   "language": "python",
   "name": "python3"
  },
  "language_info": {
   "codemirror_mode": {
    "name": "ipython",
    "version": 3
   },
   "file_extension": ".py",
   "mimetype": "text/x-python",
   "name": "python",
   "nbconvert_exporter": "python",
   "pygments_lexer": "ipython3",
   "version": "3.9.1"
  }
 },
 "nbformat": 4,
 "nbformat_minor": 5
}
