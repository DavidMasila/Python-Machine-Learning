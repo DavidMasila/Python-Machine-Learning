{
 "cells": [
  {
   "cell_type": "markdown",
   "id": "9d85c8e5",
   "metadata": {},
   "source": [
    "# Unsupervised Machine Learning"
   ]
  },
  {
   "cell_type": "markdown",
   "id": "1b755414",
   "metadata": {},
   "source": [
    "## K-means Clustering"
   ]
  },
  {
   "cell_type": "code",
   "execution_count": 1,
   "id": "c58e04e7",
   "metadata": {},
   "outputs": [],
   "source": [
    "import numpy as np"
   ]
  },
  {
   "cell_type": "code",
   "execution_count": 3,
   "id": "e5ff6dfa",
   "metadata": {},
   "outputs": [],
   "source": [
    "from sklearn.cluster import KMeans\n",
    "from sklearn.datasets import make_blobs #importing make_blobs"
   ]
  },
  {
   "cell_type": "code",
   "execution_count": 4,
   "id": "b01ffdc3",
   "metadata": {},
   "outputs": [],
   "source": [
    "#define the number of samples to be used\n",
    "#total number of datasets distributed equally between all the clusters\n",
    "n_samples=300"
   ]
  },
  {
   "cell_type": "code",
   "execution_count": 5,
   "id": "acfb17a1",
   "metadata": {},
   "outputs": [],
   "source": [
    "#define the random state value to initialize the center\n",
    "#initialize centroids\n",
    "random_state=20"
   ]
  },
  {
   "cell_type": "code",
   "execution_count": 6,
   "id": "956cab40",
   "metadata": {},
   "outputs": [],
   "source": [
    "#define number of feature as 5\n",
    "X,y = make_blobs(n_samples=n_samples, n_features=5, random_state=None)"
   ]
  },
  {
   "cell_type": "code",
   "execution_count": 7,
   "id": "42176f09",
   "metadata": {},
   "outputs": [],
   "source": [
    "#define number of cluster to be formed as 3 and in random state and fit features into the model\n",
    "predict_y=KMeans(n_clusters=3,random_state=random_state).fit_predict(X)"
   ]
  },
  {
   "cell_type": "code",
   "execution_count": 10,
   "id": "e2933732",
   "metadata": {},
   "outputs": [
    {
     "data": {
      "text/plain": [
       "array([0, 0, 1, 1, 0, 0, 2, 1, 1, 0, 2, 1, 2, 1, 0, 1, 2, 2, 0, 1, 2, 2,\n",
       "       0, 2, 1, 1, 0, 1, 1, 0, 2, 1, 1, 2, 0, 1, 0, 2, 0, 2, 2, 2, 2, 2,\n",
       "       2, 1, 2, 0, 0, 2, 0, 0, 0, 0, 2, 1, 1, 0, 2, 1, 2, 0, 2, 1, 2, 1,\n",
       "       1, 0, 0, 0, 0, 2, 0, 2, 2, 2, 2, 1, 1, 0, 0, 2, 1, 1, 1, 0, 2, 1,\n",
       "       2, 0, 1, 2, 0, 0, 2, 0, 1, 0, 1, 0, 0, 0, 1, 0, 1, 1, 1, 0, 1, 0,\n",
       "       2, 2, 1, 0, 0, 0, 2, 1, 1, 2, 1, 0, 0, 2, 0, 2, 1, 1, 2, 1, 2, 2,\n",
       "       2, 1, 2, 1, 2, 2, 1, 0, 0, 0, 0, 0, 1, 1, 1, 2, 0, 1, 1, 0, 0, 1,\n",
       "       0, 2, 2, 2, 2, 2, 2, 0, 0, 2, 2, 2, 0, 1, 0, 0, 1, 2, 0, 0, 0, 2,\n",
       "       0, 2, 1, 1, 1, 1, 0, 1, 1, 1, 1, 0, 0, 0, 0, 2, 2, 1, 1, 1, 2, 0,\n",
       "       0, 1, 1, 2, 1, 2, 2, 2, 2, 2, 1, 2, 2, 1, 0, 2, 0, 1, 1, 1, 2, 1,\n",
       "       1, 1, 1, 0, 0, 1, 2, 2, 2, 0, 0, 0, 0, 1, 1, 1, 1, 0, 2, 1, 1, 1,\n",
       "       0, 2, 2, 2, 2, 0, 1, 1, 0, 2, 1, 1, 2, 0, 2, 0, 1, 1, 0, 1, 2, 2,\n",
       "       2, 2, 0, 1, 0, 0, 0, 0, 2, 0, 1, 2, 0, 1, 2, 0, 1, 1, 2, 1, 0, 2,\n",
       "       0, 2, 2, 0, 2, 1, 2, 1, 0, 0, 2, 2, 0, 2])"
      ]
     },
     "execution_count": 10,
     "metadata": {},
     "output_type": "execute_result"
    }
   ],
   "source": [
    "#print the estimator prediction\n",
    "predict_y"
   ]
  },
  {
   "cell_type": "markdown",
   "id": "8a34a4d6",
   "metadata": {},
   "source": [
    "## Dimensianality Reduction"
   ]
  },
  {
   "cell_type": "markdown",
   "id": "158b69a4",
   "metadata": {},
   "source": [
    "### Principal Component Analysis (PCA)"
   ]
  },
  {
   "cell_type": "code",
   "execution_count": 16,
   "id": "ebf42dde",
   "metadata": {},
   "outputs": [],
   "source": [
    "#lets import the required sklearn class\n",
    "from sklearn.decomposition import PCA"
   ]
  },
  {
   "cell_type": "code",
   "execution_count": 17,
   "id": "d20626cb",
   "metadata": {},
   "outputs": [],
   "source": [
    "# we will use the make_blobs dataset\n",
    "#generate a dataset with 10 dimensions/features\n",
    "X,y = make_blobs(n_samples=20, n_features=10, random_state=None)"
   ]
  },
  {
   "cell_type": "code",
   "execution_count": 20,
   "id": "d2a8fcb0",
   "metadata": {},
   "outputs": [
    {
     "data": {
      "text/plain": [
       "(20, 10)"
      ]
     },
     "execution_count": 20,
     "metadata": {},
     "output_type": "execute_result"
    }
   ],
   "source": [
    "#view the shape of the dataset\n",
    "X.shape"
   ]
  },
  {
   "cell_type": "code",
   "execution_count": 22,
   "id": "d83ee8af",
   "metadata": {},
   "outputs": [],
   "source": [
    "#define the PCA estimator with number of reduced features to 3\n",
    "#we set the number of features to 10 above lets reduce them\n",
    "pca=PCA(n_components=3)"
   ]
  },
  {
   "cell_type": "code",
   "execution_count": 26,
   "id": "175ee47c",
   "metadata": {},
   "outputs": [
    {
     "name": "stdout",
     "output_type": "stream",
     "text": [
      "[0.63826739 0.34109204 0.00794799]\n"
     ]
    }
   ],
   "source": [
    "#fit the data into the PCA component\n",
    "pca.fit(X)\n",
    "print (pca.explained_variance_ratio_)"
   ]
  },
  {
   "cell_type": "markdown",
   "id": "c7002538",
   "metadata": {},
   "source": [
    "The explained variance ratio shows the %ge of variance explained by each component"
   ]
  },
  {
   "cell_type": "code",
   "execution_count": 27,
   "id": "d56d798c",
   "metadata": {},
   "outputs": [],
   "source": [
    "#print the first PCA component\n",
    "first_pca=pca.components_[0]"
   ]
  },
  {
   "cell_type": "code",
   "execution_count": 28,
   "id": "5c425e53",
   "metadata": {},
   "outputs": [
    {
     "data": {
      "text/plain": [
       "array([ 0.11905521,  0.4004379 , -0.27868803,  0.3949561 , -0.13718958,\n",
       "       -0.12125536, -0.49859793, -0.14225347, -0.48051985, -0.24198945])"
      ]
     },
     "execution_count": 28,
     "metadata": {},
     "output_type": "execute_result"
    }
   ],
   "source": [
    "first_pca"
   ]
  },
  {
   "cell_type": "code",
   "execution_count": 29,
   "id": "7cf892f9",
   "metadata": {},
   "outputs": [],
   "source": [
    "#transforming the fitted data using transform method\n",
    "pca_reduced=pca.transform(X)"
   ]
  },
  {
   "cell_type": "code",
   "execution_count": 31,
   "id": "684be4a9",
   "metadata": {},
   "outputs": [
    {
     "data": {
      "text/plain": [
       "(20, 3)"
      ]
     },
     "execution_count": 31,
     "metadata": {},
     "output_type": "execute_result"
    }
   ],
   "source": [
    "#view the reduced shape(lower dimenstion)\n",
    "pca_reduced.shape"
   ]
  },
  {
   "cell_type": "markdown",
   "id": "a67441f8",
   "metadata": {},
   "source": [
    "As shown the features are reduced to 3"
   ]
  },
  {
   "cell_type": "code",
   "execution_count": null,
   "id": "2cde05b6",
   "metadata": {},
   "outputs": [],
   "source": []
  }
 ],
 "metadata": {
  "kernelspec": {
   "display_name": "Python 3",
   "language": "python",
   "name": "python3"
  },
  "language_info": {
   "codemirror_mode": {
    "name": "ipython",
    "version": 3
   },
   "file_extension": ".py",
   "mimetype": "text/x-python",
   "name": "python",
   "nbconvert_exporter": "python",
   "pygments_lexer": "ipython3",
   "version": "3.9.1"
  }
 },
 "nbformat": 4,
 "nbformat_minor": 5
}
